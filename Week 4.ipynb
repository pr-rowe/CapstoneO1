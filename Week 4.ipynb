{
 "cells": [
  {
   "cell_type": "code",
   "execution_count": 1,
   "id": "5602bd5e-4123-454e-9aeb-94857918d6a6",
   "metadata": {},
   "outputs": [],
   "source": [
    "import pandas as pd\n",
    "import matplotlib.pyplot as plt\n",
    "import numpy as np\n",
    "from sklearn.ensemble import RandomForestRegressor\n",
    "from sklearn.metrics import root_mean_squared_error\n",
    "from sklearn.model_selection import GridSearchCV\n",
    "from sklearn.metrics import make_scorer, mean_squared_error\n",
    "from sklearn.model_selection import train_test_split\n",
    "from sklearn.metrics import mean_squared_error\n",
    "import numpy as np\n",
    "from sklearn.ensemble import IsolationForest\n",
    "from scipy.stats import zscore\n",
    "from sklearn.linear_model import LinearRegression, Lasso, Ridge, ElasticNet\n",
    "import statsmodels.api as sm\n",
    "from statsmodels.stats.outliers_influence import variance_inflation_factor\n",
    "from patsy import dmatrices\n",
    "from sklearn.preprocessing import PolynomialFeatures, StandardScaler, OneHotEncoder\n",
    "from sklearn.compose import ColumnTransformer\n",
    "from sklearn.pipeline import Pipeline\n",
    "from sklearn.decomposition import PCA\n",
    "from sklearn.cross_decomposition import PLSRegression\n",
    "from sklearn.linear_model import LogisticRegression\n",
    "from sklearn.metrics import classification_report, confusion_matrix"
   ]
  },
  {
   "cell_type": "code",
   "execution_count": 2,
   "id": "96d3365c",
   "metadata": {},
   "outputs": [
    {
     "name": "stderr",
     "output_type": "stream",
     "text": [
      "/home/codespace/.python/current/lib/python3.12/site-packages/tqdm/auto.py:21: TqdmWarning: IProgress not found. Please update jupyter and ipywidgets. See https://ipywidgets.readthedocs.io/en/stable/user_install.html\n",
      "  from .autonotebook import tqdm as notebook_tqdm\n",
      "/tmp/ipykernel_7754/4082401683.py:7: DeprecationWarning: load_dataset is deprecated and will be removed in a future version.\n",
      "  df = kagglehub.load_dataset(\n"
     ]
    },
    {
     "name": "stdout",
     "output_type": "stream",
     "text": [
      "First 5 records:          zpid          city          streetAddress  zipcode  \\\n",
      "0   111373431  pflugerville   14424 Lake Victor Dr    78660   \n",
      "1   120900430  pflugerville     1104 Strickling Dr    78660   \n",
      "2  2084491383  pflugerville    1408 Fort Dessau Rd    78660   \n",
      "3   120901374  pflugerville     1025 Strickling Dr    78660   \n",
      "4    60134862  pflugerville  15005 Donna Jane Loop    78660   \n",
      "\n",
      "                                         description   latitude  longitude  \\\n",
      "0  14424 Lake Victor Dr, Pflugerville, TX 78660 i...  30.430632 -97.663078   \n",
      "1  Absolutely GORGEOUS 4 Bedroom home with 2 full...  30.432673 -97.661697   \n",
      "2  Under construction - estimated completion in A...  30.409748 -97.639771   \n",
      "3  Absolutely darling one story home in charming ...  30.432112 -97.661659   \n",
      "4  Brimming with appeal & warm livability! Sleek ...  30.437368 -97.656860   \n",
      "\n",
      "   propertyTaxRate  garageSpaces  hasAssociation  ...  numOfMiddleSchools  \\\n",
      "0             1.98             2            True  ...                   1   \n",
      "1             1.98             2            True  ...                   1   \n",
      "2             1.98             0            True  ...                   1   \n",
      "3             1.98             2            True  ...                   1   \n",
      "4             1.98             0            True  ...                   1   \n",
      "\n",
      "   numOfHighSchools  avgSchoolDistance  avgSchoolRating  avgSchoolSize  \\\n",
      "0                 1           1.266667         2.666667           1063   \n",
      "1                 1           1.400000         2.666667           1063   \n",
      "2                 1           1.200000         3.000000           1108   \n",
      "3                 1           1.400000         2.666667           1063   \n",
      "4                 1           1.133333         4.000000           1223   \n",
      "\n",
      "  MedianStudentsPerTeacher  numOfBathrooms  numOfBedrooms  numOfStories  \\\n",
      "0                       14             3.0              4             2   \n",
      "1                       14             2.0              4             1   \n",
      "2                       14             2.0              3             1   \n",
      "3                       14             2.0              3             1   \n",
      "4                       14             3.0              3             2   \n",
      "\n",
      "                                           homeImage  \n",
      "0  111373431_ffce26843283d3365c11d81b8e6bdc6f-p_f...  \n",
      "1  120900430_8255c127be8dcf0a1a18b7563d987088-p_f...  \n",
      "2  2084491383_a2ad649e1a7a098111dcea084a11c855-p_...  \n",
      "3  120901374_b469367a619da85b1f5ceb69b675d88e-p_f...  \n",
      "4  60134862_b1a48a3df3f111e005bb913873e98ce2-p_f.jpg  \n",
      "\n",
      "[5 rows x 47 columns]\n"
     ]
    }
   ],
   "source": [
    "import kagglehub\n",
    "from kagglehub import KaggleDatasetAdapter\n",
    "\n",
    "file_path = \"austinHousingData.csv\"\n",
    "\n",
    "\n",
    "df = kagglehub.load_dataset(\n",
    "  KaggleDatasetAdapter.PANDAS,\n",
    "  \"ericpierce/austinhousingprices\",\n",
    "  file_path,\n",
    "  # Provide any additional arguments like \n",
    "    pandas_kwargs={\"sep\": \",\"}\n",
    "  # https://github.com/Kaggle/kagglehub/blob/main/README.md#kaggledatasetadapterpandas\n",
    ")\n",
    "\n",
    "print(\"First 5 records:\", df.head())"
   ]
  },
  {
   "cell_type": "code",
   "execution_count": 13,
   "id": "900e7120",
   "metadata": {},
   "outputs": [],
   "source": [
    "df['price_bin'] = pd.qcut(df['latestPrice'], q=3, labels=['low', 'mid', 'high'])\n",
    "\n",
    "usable_columns = df.select_dtypes(include=['int64', 'float64'])\n",
    "usable_columns = usable_columns.drop(columns=['zpid'])\n",
    "\n",
    "X = usable_columns.drop(\"latestPrice\", axis=1)\n",
    "y = df['price_bin']\n",
    "\n",
    "\n",
    "X_train, X_test, y_train, y_test = train_test_split(X, y, test_size=0.2, random_state=42)\n",
    "\n",
    "scaler = StandardScaler()"
   ]
  },
  {
   "cell_type": "code",
   "execution_count": 14,
   "id": "7fb92759",
   "metadata": {},
   "outputs": [],
   "source": [
    "X_train_scaled = scaler.fit_transform(X_train)\n",
    "X_test_scaled = scaler.transform(X_test)"
   ]
  },
  {
   "cell_type": "code",
   "execution_count": 15,
   "id": "f45cb744",
   "metadata": {},
   "outputs": [],
   "source": [
    "model = LogisticRegression(max_iter=1000)\n",
    "model.fit(X_train_scaled, y_train)\n",
    "\n",
    "y_pred = model.predict(X_test_scaled)"
   ]
  },
  {
   "cell_type": "code",
   "execution_count": 16,
   "id": "8010a237",
   "metadata": {},
   "outputs": [
    {
     "name": "stdout",
     "output_type": "stream",
     "text": [
      "Confusion Matrix:\n",
      " [[762  45 205]\n",
      " [ 35 803 173]\n",
      " [187 266 559]]\n",
      "\n",
      "Classification Report:\n",
      "               precision    recall  f1-score   support\n",
      "\n",
      "        high       0.77      0.75      0.76      1012\n",
      "         low       0.72      0.79      0.76      1011\n",
      "         mid       0.60      0.55      0.57      1012\n",
      "\n",
      "    accuracy                           0.70      3035\n",
      "   macro avg       0.70      0.70      0.70      3035\n",
      "weighted avg       0.70      0.70      0.70      3035\n",
      "\n"
     ]
    }
   ],
   "source": [
    "print(\"Confusion Matrix:\\n\", confusion_matrix(y_test, y_pred))\n",
    "print(\"\\nClassification Report:\\n\", classification_report(y_test, y_pred))"
   ]
  }
 ],
 "metadata": {
  "kernelspec": {
   "display_name": "Python 3",
   "language": "python",
   "name": "python3"
  },
  "language_info": {
   "codemirror_mode": {
    "name": "ipython",
    "version": 3
   },
   "file_extension": ".py",
   "mimetype": "text/x-python",
   "name": "python",
   "nbconvert_exporter": "python",
   "pygments_lexer": "ipython3",
   "version": "3.12.1"
  }
 },
 "nbformat": 4,
 "nbformat_minor": 5
}
