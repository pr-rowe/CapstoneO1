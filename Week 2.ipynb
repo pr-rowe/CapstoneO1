{
 "cells": [
  {
   "cell_type": "code",
   "execution_count": 37,
   "id": "5602bd5e-4123-454e-9aeb-94857918d6a6",
   "metadata": {},
   "outputs": [],
   "source": [
    "import pandas as pd\n",
    "import numpy as np\n",
    "from sklearn.ensemble import RandomForestRegressor\n",
    "from sklearn.metrics import root_mean_squared_error\n",
    "from sklearn.model_selection import GridSearchCV\n",
    "from sklearn.metrics import make_scorer, mean_squared_error\n",
    "from sklearn.model_selection import train_test_split\n",
    "from sklearn.metrics import mean_squared_error\n",
    "import numpy as np\n",
    "from sklearn.ensemble import IsolationForest\n",
    "from scipy.stats import zscore\n",
    "from sklearn.linear_model import LinearRegression, Lasso, Ridge, ElasticNet\n",
    "import statsmodels.api as sm\n",
    "from statsmodels.stats.outliers_influence import variance_inflation_factor\n",
    "from patsy import dmatrices\n",
    "from sklearn.preprocessing import PolynomialFeatures, StandardScaler, OneHotEncoder\n",
    "from sklearn.compose import ColumnTransformer\n",
    "from sklearn.pipeline import Pipeline"
   ]
  },
  {
   "cell_type": "code",
   "execution_count": 23,
   "id": "96d3365c",
   "metadata": {},
   "outputs": [
    {
     "name": "stderr",
     "output_type": "stream",
     "text": [
      "/tmp/ipykernel_16977/4082401683.py:7: DeprecationWarning: load_dataset is deprecated and will be removed in a future version.\n",
      "  df = kagglehub.load_dataset(\n"
     ]
    },
    {
     "name": "stdout",
     "output_type": "stream",
     "text": [
      "First 5 records:          zpid          city          streetAddress  zipcode  \\\n",
      "0   111373431  pflugerville   14424 Lake Victor Dr    78660   \n",
      "1   120900430  pflugerville     1104 Strickling Dr    78660   \n",
      "2  2084491383  pflugerville    1408 Fort Dessau Rd    78660   \n",
      "3   120901374  pflugerville     1025 Strickling Dr    78660   \n",
      "4    60134862  pflugerville  15005 Donna Jane Loop    78660   \n",
      "\n",
      "                                         description   latitude  longitude  \\\n",
      "0  14424 Lake Victor Dr, Pflugerville, TX 78660 i...  30.430632 -97.663078   \n",
      "1  Absolutely GORGEOUS 4 Bedroom home with 2 full...  30.432673 -97.661697   \n",
      "2  Under construction - estimated completion in A...  30.409748 -97.639771   \n",
      "3  Absolutely darling one story home in charming ...  30.432112 -97.661659   \n",
      "4  Brimming with appeal & warm livability! Sleek ...  30.437368 -97.656860   \n",
      "\n",
      "   propertyTaxRate  garageSpaces  hasAssociation  ...  numOfMiddleSchools  \\\n",
      "0             1.98             2            True  ...                   1   \n",
      "1             1.98             2            True  ...                   1   \n",
      "2             1.98             0            True  ...                   1   \n",
      "3             1.98             2            True  ...                   1   \n",
      "4             1.98             0            True  ...                   1   \n",
      "\n",
      "   numOfHighSchools  avgSchoolDistance  avgSchoolRating  avgSchoolSize  \\\n",
      "0                 1           1.266667         2.666667           1063   \n",
      "1                 1           1.400000         2.666667           1063   \n",
      "2                 1           1.200000         3.000000           1108   \n",
      "3                 1           1.400000         2.666667           1063   \n",
      "4                 1           1.133333         4.000000           1223   \n",
      "\n",
      "  MedianStudentsPerTeacher  numOfBathrooms  numOfBedrooms  numOfStories  \\\n",
      "0                       14             3.0              4             2   \n",
      "1                       14             2.0              4             1   \n",
      "2                       14             2.0              3             1   \n",
      "3                       14             2.0              3             1   \n",
      "4                       14             3.0              3             2   \n",
      "\n",
      "                                           homeImage  \n",
      "0  111373431_ffce26843283d3365c11d81b8e6bdc6f-p_f...  \n",
      "1  120900430_8255c127be8dcf0a1a18b7563d987088-p_f...  \n",
      "2  2084491383_a2ad649e1a7a098111dcea084a11c855-p_...  \n",
      "3  120901374_b469367a619da85b1f5ceb69b675d88e-p_f...  \n",
      "4  60134862_b1a48a3df3f111e005bb913873e98ce2-p_f.jpg  \n",
      "\n",
      "[5 rows x 47 columns]\n"
     ]
    }
   ],
   "source": [
    "import kagglehub\n",
    "from kagglehub import KaggleDatasetAdapter\n",
    "\n",
    "file_path = \"austinHousingData.csv\"\n",
    "\n",
    "\n",
    "df = kagglehub.load_dataset(\n",
    "  KaggleDatasetAdapter.PANDAS,\n",
    "  \"ericpierce/austinhousingprices\",\n",
    "  file_path,\n",
    "  # Provide any additional arguments like \n",
    "    pandas_kwargs={\"sep\": \",\"}\n",
    "  # https://github.com/Kaggle/kagglehub/blob/main/README.md#kaggledatasetadapterpandas\n",
    ")\n",
    "\n",
    "print(\"First 5 records:\", df.head())"
   ]
  },
  {
   "cell_type": "code",
   "execution_count": null,
   "id": "103bdd29",
   "metadata": {},
   "outputs": [],
   "source": [
    "usable_columns = df.select_dtypes(include=['int64', 'float64'])\n",
    "usable_columns = usable_columns.drop(columns=['zpid'])"
   ]
  },
  {
   "cell_type": "code",
   "execution_count": 25,
   "id": "2552aa99",
   "metadata": {},
   "outputs": [
    {
     "name": "stdout",
     "output_type": "stream",
     "text": [
      "<class 'pandas.core.frame.DataFrame'>\n",
      "RangeIndex: 15171 entries, 0 to 15170\n",
      "Data columns (total 33 columns):\n",
      " #   Column                      Non-Null Count  Dtype  \n",
      "---  ------                      --------------  -----  \n",
      " 0   zipcode                     15171 non-null  int64  \n",
      " 1   latitude                    15171 non-null  float64\n",
      " 2   longitude                   15171 non-null  float64\n",
      " 3   propertyTaxRate             15171 non-null  float64\n",
      " 4   garageSpaces                15171 non-null  int64  \n",
      " 5   parkingSpaces               15171 non-null  int64  \n",
      " 6   yearBuilt                   15171 non-null  int64  \n",
      " 7   latestPrice                 15171 non-null  float64\n",
      " 8   numPriceChanges             15171 non-null  int64  \n",
      " 9   latest_salemonth            15171 non-null  int64  \n",
      " 10  latest_saleyear             15171 non-null  int64  \n",
      " 11  numOfPhotos                 15171 non-null  int64  \n",
      " 12  numOfAccessibilityFeatures  15171 non-null  int64  \n",
      " 13  numOfAppliances             15171 non-null  int64  \n",
      " 14  numOfParkingFeatures        15171 non-null  int64  \n",
      " 15  numOfPatioAndPorchFeatures  15171 non-null  int64  \n",
      " 16  numOfSecurityFeatures       15171 non-null  int64  \n",
      " 17  numOfWaterfrontFeatures     15171 non-null  int64  \n",
      " 18  numOfWindowFeatures         15171 non-null  int64  \n",
      " 19  numOfCommunityFeatures      15171 non-null  int64  \n",
      " 20  lotSizeSqFt                 15171 non-null  float64\n",
      " 21  livingAreaSqFt              15171 non-null  float64\n",
      " 22  numOfPrimarySchools         15171 non-null  int64  \n",
      " 23  numOfElementarySchools      15171 non-null  int64  \n",
      " 24  numOfMiddleSchools          15171 non-null  int64  \n",
      " 25  numOfHighSchools            15171 non-null  int64  \n",
      " 26  avgSchoolDistance           15171 non-null  float64\n",
      " 27  avgSchoolRating             15171 non-null  float64\n",
      " 28  avgSchoolSize               15171 non-null  int64  \n",
      " 29  MedianStudentsPerTeacher    15171 non-null  int64  \n",
      " 30  numOfBathrooms              15171 non-null  float64\n",
      " 31  numOfBedrooms               15171 non-null  int64  \n",
      " 32  numOfStories                15171 non-null  int64  \n",
      "dtypes: float64(9), int64(24)\n",
      "memory usage: 3.8 MB\n"
     ]
    }
   ],
   "source": [
    "usable_columns.info()"
   ]
  },
  {
   "cell_type": "code",
   "execution_count": null,
   "id": "900e7120",
   "metadata": {},
   "outputs": [],
   "source": [
    "\n",
    "X = usable_columns.drop(\"latestPrice\", axis=1)\n",
    "y = usable_columns[\"latestPrice\"]\n",
    "\n",
    "iso = IsolationForest(contamination=.01, random_state=42)\n",
    "outliers = iso.fit_predict(X) == 1\n",
    "X, y = X[outliers], y[outliers]\n",
    "\n",
    "\n",
    "X_train, X_test, y_train, y_test = train_test_split(X, y, test_size=0.2, random_state=42)\n",
    "\n",
    "scaler = StandardScaler()"
   ]
  },
  {
   "cell_type": "code",
   "execution_count": 34,
   "id": "7fb92759",
   "metadata": {},
   "outputs": [],
   "source": [
    "models = {\n",
    "    'Linear': LinearRegression(),\n",
    "    'Lasso': Lasso(alpha=0.1),\n",
    "    'Ridge': Ridge(alpha=1.0),\n",
    "    'ElasticNet': ElasticNet(alpha=0.1, l1_ratio=0.5)\n",
    "}\n",
    "\n",
    "pipelines = {\n",
    "    name: Pipeline([\n",
    "        ('scale', scaler),\n",
    "        ('model', model)\n",
    "    ])\n",
    "    for name, model in models.items()\n",
    "}"
   ]
  },
  {
   "cell_type": "code",
   "execution_count": 39,
   "id": "9ff4640e",
   "metadata": {},
   "outputs": [
    {
     "name": "stdout",
     "output_type": "stream",
     "text": [
      "Linear Regression RMSE: 222073.4426\n",
      "Lasso Regression RMSE: 222073.3903\n",
      "Ridge Regression RMSE: 222067.8755\n",
      "ElasticNet Regression RMSE: 220367.5301\n"
     ]
    },
    {
     "name": "stderr",
     "output_type": "stream",
     "text": [
      "/home/codespace/.local/lib/python3.12/site-packages/sklearn/linear_model/_coordinate_descent.py:695: ConvergenceWarning: Objective did not converge. You might want to increase the number of iterations, check the scale of the features or consider increasing regularisation. Duality gap: 3.777e+14, tolerance: 2.214e+11\n"
     ]
    }
   ],
   "source": [
    "X_train, X_test, y_train, y_test = train_test_split(X, y, test_size=0.2, random_state=42)\n",
    "\n",
    "for name, pipe in pipelines.items():\n",
    "    pipe.fit(X_train, y_train)\n",
    "    y_pred = pipe.predict(X_test)\n",
    "    rmse = mean_squared_error(y_test, y_pred) ** 0.5\n",
    "    print(f\"{name} Regression RMSE: {rmse:.4f}\")"
   ]
  },
  {
   "cell_type": "code",
   "execution_count": null,
   "id": "c81a12fa",
   "metadata": {},
   "outputs": [],
   "source": []
  }
 ],
 "metadata": {
  "kernelspec": {
   "display_name": "Python 3",
   "language": "python",
   "name": "python3"
  },
  "language_info": {
   "codemirror_mode": {
    "name": "ipython",
    "version": 3
   },
   "file_extension": ".py",
   "mimetype": "text/x-python",
   "name": "python",
   "nbconvert_exporter": "python",
   "pygments_lexer": "ipython3",
   "version": "3.12.1"
  }
 },
 "nbformat": 4,
 "nbformat_minor": 5
}
