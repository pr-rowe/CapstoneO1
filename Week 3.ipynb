{
 "cells": [
  {
   "cell_type": "code",
   "execution_count": 16,
   "id": "5602bd5e-4123-454e-9aeb-94857918d6a6",
   "metadata": {},
   "outputs": [],
   "source": [
    "import pandas as pd\n",
    "import matplotlib.pyplot as plt\n",
    "import numpy as np\n",
    "from sklearn.ensemble import RandomForestRegressor\n",
    "from sklearn.metrics import root_mean_squared_error\n",
    "from sklearn.model_selection import GridSearchCV\n",
    "from sklearn.metrics import make_scorer, mean_squared_error\n",
    "from sklearn.model_selection import train_test_split\n",
    "from sklearn.metrics import mean_squared_error\n",
    "import numpy as np\n",
    "from sklearn.ensemble import IsolationForest\n",
    "from scipy.stats import zscore\n",
    "from sklearn.linear_model import LinearRegression, Lasso, Ridge, ElasticNet\n",
    "import statsmodels.api as sm\n",
    "from statsmodels.stats.outliers_influence import variance_inflation_factor\n",
    "from patsy import dmatrices\n",
    "from sklearn.preprocessing import PolynomialFeatures, StandardScaler, OneHotEncoder\n",
    "from sklearn.compose import ColumnTransformer\n",
    "from sklearn.pipeline import Pipeline\n",
    "from sklearn.decomposition import PCA\n",
    "from sklearn.cross_decomposition import PLSRegression"
   ]
  },
  {
   "cell_type": "code",
   "execution_count": 4,
   "id": "96d3365c",
   "metadata": {},
   "outputs": [
    {
     "name": "stderr",
     "output_type": "stream",
     "text": [
      "/usr/local/python/3.12.1/lib/python3.12/site-packages/tqdm/auto.py:21: TqdmWarning: IProgress not found. Please update jupyter and ipywidgets. See https://ipywidgets.readthedocs.io/en/stable/user_install.html\n",
      "  from .autonotebook import tqdm as notebook_tqdm\n",
      "/tmp/ipykernel_27273/4082401683.py:7: DeprecationWarning: load_dataset is deprecated and will be removed in a future version.\n",
      "  df = kagglehub.load_dataset(\n"
     ]
    },
    {
     "name": "stdout",
     "output_type": "stream",
     "text": [
      "First 5 records:          zpid          city          streetAddress  zipcode  \\\n",
      "0   111373431  pflugerville   14424 Lake Victor Dr    78660   \n",
      "1   120900430  pflugerville     1104 Strickling Dr    78660   \n",
      "2  2084491383  pflugerville    1408 Fort Dessau Rd    78660   \n",
      "3   120901374  pflugerville     1025 Strickling Dr    78660   \n",
      "4    60134862  pflugerville  15005 Donna Jane Loop    78660   \n",
      "\n",
      "                                         description   latitude  longitude  \\\n",
      "0  14424 Lake Victor Dr, Pflugerville, TX 78660 i...  30.430632 -97.663078   \n",
      "1  Absolutely GORGEOUS 4 Bedroom home with 2 full...  30.432673 -97.661697   \n",
      "2  Under construction - estimated completion in A...  30.409748 -97.639771   \n",
      "3  Absolutely darling one story home in charming ...  30.432112 -97.661659   \n",
      "4  Brimming with appeal & warm livability! Sleek ...  30.437368 -97.656860   \n",
      "\n",
      "   propertyTaxRate  garageSpaces  hasAssociation  ...  numOfMiddleSchools  \\\n",
      "0             1.98             2            True  ...                   1   \n",
      "1             1.98             2            True  ...                   1   \n",
      "2             1.98             0            True  ...                   1   \n",
      "3             1.98             2            True  ...                   1   \n",
      "4             1.98             0            True  ...                   1   \n",
      "\n",
      "   numOfHighSchools  avgSchoolDistance  avgSchoolRating  avgSchoolSize  \\\n",
      "0                 1           1.266667         2.666667           1063   \n",
      "1                 1           1.400000         2.666667           1063   \n",
      "2                 1           1.200000         3.000000           1108   \n",
      "3                 1           1.400000         2.666667           1063   \n",
      "4                 1           1.133333         4.000000           1223   \n",
      "\n",
      "  MedianStudentsPerTeacher  numOfBathrooms  numOfBedrooms  numOfStories  \\\n",
      "0                       14             3.0              4             2   \n",
      "1                       14             2.0              4             1   \n",
      "2                       14             2.0              3             1   \n",
      "3                       14             2.0              3             1   \n",
      "4                       14             3.0              3             2   \n",
      "\n",
      "                                           homeImage  \n",
      "0  111373431_ffce26843283d3365c11d81b8e6bdc6f-p_f...  \n",
      "1  120900430_8255c127be8dcf0a1a18b7563d987088-p_f...  \n",
      "2  2084491383_a2ad649e1a7a098111dcea084a11c855-p_...  \n",
      "3  120901374_b469367a619da85b1f5ceb69b675d88e-p_f...  \n",
      "4  60134862_b1a48a3df3f111e005bb913873e98ce2-p_f.jpg  \n",
      "\n",
      "[5 rows x 47 columns]\n"
     ]
    }
   ],
   "source": [
    "import kagglehub\n",
    "from kagglehub import KaggleDatasetAdapter\n",
    "\n",
    "file_path = \"austinHousingData.csv\"\n",
    "\n",
    "\n",
    "df = kagglehub.load_dataset(\n",
    "  KaggleDatasetAdapter.PANDAS,\n",
    "  \"ericpierce/austinhousingprices\",\n",
    "  file_path,\n",
    "  # Provide any additional arguments like \n",
    "    pandas_kwargs={\"sep\": \",\"}\n",
    "  # https://github.com/Kaggle/kagglehub/blob/main/README.md#kaggledatasetadapterpandas\n",
    ")\n",
    "\n",
    "print(\"First 5 records:\", df.head())"
   ]
  },
  {
   "cell_type": "code",
   "execution_count": 5,
   "id": "103bdd29",
   "metadata": {},
   "outputs": [],
   "source": [
    "usable_columns = df.select_dtypes(include=['int64', 'float64'])\n",
    "usable_columns = usable_columns.drop(columns=['zpid'])"
   ]
  },
  {
   "cell_type": "code",
   "execution_count": 6,
   "id": "2552aa99",
   "metadata": {},
   "outputs": [
    {
     "name": "stdout",
     "output_type": "stream",
     "text": [
      "<class 'pandas.core.frame.DataFrame'>\n",
      "RangeIndex: 15171 entries, 0 to 15170\n",
      "Data columns (total 33 columns):\n",
      " #   Column                      Non-Null Count  Dtype  \n",
      "---  ------                      --------------  -----  \n",
      " 0   zipcode                     15171 non-null  int64  \n",
      " 1   latitude                    15171 non-null  float64\n",
      " 2   longitude                   15171 non-null  float64\n",
      " 3   propertyTaxRate             15171 non-null  float64\n",
      " 4   garageSpaces                15171 non-null  int64  \n",
      " 5   parkingSpaces               15171 non-null  int64  \n",
      " 6   yearBuilt                   15171 non-null  int64  \n",
      " 7   latestPrice                 15171 non-null  float64\n",
      " 8   numPriceChanges             15171 non-null  int64  \n",
      " 9   latest_salemonth            15171 non-null  int64  \n",
      " 10  latest_saleyear             15171 non-null  int64  \n",
      " 11  numOfPhotos                 15171 non-null  int64  \n",
      " 12  numOfAccessibilityFeatures  15171 non-null  int64  \n",
      " 13  numOfAppliances             15171 non-null  int64  \n",
      " 14  numOfParkingFeatures        15171 non-null  int64  \n",
      " 15  numOfPatioAndPorchFeatures  15171 non-null  int64  \n",
      " 16  numOfSecurityFeatures       15171 non-null  int64  \n",
      " 17  numOfWaterfrontFeatures     15171 non-null  int64  \n",
      " 18  numOfWindowFeatures         15171 non-null  int64  \n",
      " 19  numOfCommunityFeatures      15171 non-null  int64  \n",
      " 20  lotSizeSqFt                 15171 non-null  float64\n",
      " 21  livingAreaSqFt              15171 non-null  float64\n",
      " 22  numOfPrimarySchools         15171 non-null  int64  \n",
      " 23  numOfElementarySchools      15171 non-null  int64  \n",
      " 24  numOfMiddleSchools          15171 non-null  int64  \n",
      " 25  numOfHighSchools            15171 non-null  int64  \n",
      " 26  avgSchoolDistance           15171 non-null  float64\n",
      " 27  avgSchoolRating             15171 non-null  float64\n",
      " 28  avgSchoolSize               15171 non-null  int64  \n",
      " 29  MedianStudentsPerTeacher    15171 non-null  int64  \n",
      " 30  numOfBathrooms              15171 non-null  float64\n",
      " 31  numOfBedrooms               15171 non-null  int64  \n",
      " 32  numOfStories                15171 non-null  int64  \n",
      "dtypes: float64(9), int64(24)\n",
      "memory usage: 3.8 MB\n"
     ]
    }
   ],
   "source": [
    "usable_columns.info()"
   ]
  },
  {
   "cell_type": "code",
   "execution_count": 7,
   "id": "900e7120",
   "metadata": {},
   "outputs": [],
   "source": [
    "\n",
    "X = usable_columns.drop(\"latestPrice\", axis=1)\n",
    "y = usable_columns[\"latestPrice\"]\n",
    "\n",
    "iso = IsolationForest(contamination=.01, random_state=42)\n",
    "outliers = iso.fit_predict(X) == 1\n",
    "X, y = X[outliers], y[outliers]\n",
    "\n",
    "\n",
    "X_train, X_test, y_train, y_test = train_test_split(X, y, test_size=0.2, random_state=42)\n",
    "\n",
    "scaler = StandardScaler()"
   ]
  },
  {
   "cell_type": "code",
   "execution_count": 8,
   "id": "7fb92759",
   "metadata": {},
   "outputs": [],
   "source": [
    "models = {\n",
    "    'Linear': LinearRegression()\n",
    "}\n",
    "\n",
    "pipelines = {\n",
    "    name: Pipeline([\n",
    "        ('scale', scaler),\n",
    "        ('model', model)\n",
    "    ])\n",
    "    for name, model in models.items()\n",
    "}"
   ]
  },
  {
   "cell_type": "code",
   "execution_count": 9,
   "id": "9ff4640e",
   "metadata": {},
   "outputs": [
    {
     "name": "stdout",
     "output_type": "stream",
     "text": [
      "Linear Regression RMSE: 222073.4426\n"
     ]
    }
   ],
   "source": [
    "X_train, X_test, y_train, y_test = train_test_split(X, y, test_size=0.2, random_state=42)\n",
    "\n",
    "for name, pipe in pipelines.items():\n",
    "    pipe.fit(X_train, y_train)\n",
    "    y_pred = pipe.predict(X_test)\n",
    "    rmse = mean_squared_error(y_test, y_pred) ** 0.5\n",
    "    print(f\"{name} Regression RMSE: {rmse:.4f}\")"
   ]
  },
  {
   "cell_type": "code",
   "execution_count": null,
   "id": "c81a12fa",
   "metadata": {},
   "outputs": [
    {
     "name": "stdout",
     "output_type": "stream",
     "text": [
      "Forward selected features: ['livingAreaSqFt', 'yearBuilt', 'zipcode', 'propertyTaxRate', 'numOfBathrooms', 'numOfBedrooms', 'numOfStories', 'numOfWaterfrontFeatures', 'latest_saleyear', 'avgSchoolDistance', 'numPriceChanges', 'avgSchoolSize', 'avgSchoolRating', 'longitude', 'numOfHighSchools', 'numOfParkingFeatures', 'numOfMiddleSchools', 'latitude', 'latest_salemonth', 'numOfWindowFeatures', 'garageSpaces', 'numOfCommunityFeatures', 'numOfPatioAndPorchFeatures', 'numOfPhotos', 'numOfElementarySchools', 'numOfPrimarySchools', 'lotSizeSqFt', 'numOfAccessibilityFeatures', 'MedianStudentsPerTeacher']\n"
     ]
    }
   ],
   "source": [
    "def forward_selection(X, y):\n",
    "    remaining = list(X.columns)\n",
    "    selected = []\n",
    "    best_aic = np.inf\n",
    "\n",
    "    while remaining:\n",
    "        aic_with_candidates = []\n",
    "        for candidate in remaining:\n",
    "            model = sm.OLS(y, sm.add_constant(X[selected + [candidate]])).fit()\n",
    "            aic_with_candidates.append((model.aic, candidate))\n",
    "        aic_with_candidates.sort()\n",
    "        best_new_aic, best_candidate = aic_with_candidates[0]\n",
    "        if best_new_aic < best_aic:\n",
    "            remaining.remove(best_candidate)\n",
    "            selected.append(best_candidate)\n",
    "            best_aic = best_new_aic\n",
    "        else:\n",
    "            break\n",
    "    return selected\n",
    "\n",
    "forwardfeartures = forward_selection(X, y)\n",
    "print(\"Forward selected features:\", forwardfeartures)"
   ]
  },
  {
   "cell_type": "code",
   "execution_count": 13,
   "id": "7ab4f56d",
   "metadata": {},
   "outputs": [
    {
     "name": "stdout",
     "output_type": "stream",
     "text": [
      "Backward selected features: ['zipcode', 'latitude', 'longitude', 'propertyTaxRate', 'garageSpaces', 'yearBuilt', 'numPriceChanges', 'latest_salemonth', 'latest_saleyear', 'numOfPhotos', 'numOfParkingFeatures', 'numOfPatioAndPorchFeatures', 'numOfWaterfrontFeatures', 'numOfWindowFeatures', 'numOfCommunityFeatures', 'livingAreaSqFt', 'numOfPrimarySchools', 'numOfElementarySchools', 'numOfMiddleSchools', 'numOfHighSchools', 'avgSchoolDistance', 'avgSchoolRating', 'avgSchoolSize', 'numOfBathrooms', 'numOfBedrooms', 'numOfStories']\n"
     ]
    }
   ],
   "source": [
    "def backward_elimination(X, y, threshold=0.05):\n",
    "    X_ = sm.add_constant(X.copy())\n",
    "    model = sm.OLS(y, X_).fit()\n",
    "    while True:\n",
    "        pvals = model.pvalues.drop('const')\n",
    "        max_p = pvals.max()\n",
    "        if max_p > threshold:\n",
    "            worst_feature = pvals.idxmax()\n",
    "            X_.drop(columns=[worst_feature], inplace=True)\n",
    "            model = sm.OLS(y, X_).fit()\n",
    "        else:\n",
    "            break\n",
    "    return X_.columns.drop('const').tolist()\n",
    "\n",
    "backwardfeatures = backward_elimination(X, y)\n",
    "print(\"Backward selected features:\", backwardfeatures)"
   ]
  },
  {
   "cell_type": "code",
   "execution_count": null,
   "id": "a56eaa6e",
   "metadata": {},
   "outputs": [
    {
     "name": "stdout",
     "output_type": "stream",
     "text": [
      "[0.15043204 0.24901541 0.32271726 0.38546882 0.43780383 0.48910036\n",
      " 0.52579755 0.56138463 0.59538138 0.62846248 0.66020485 0.69142914\n",
      " 0.7213336  0.75018604 0.7781485  0.80401081 0.82855746 0.85164471\n",
      " 0.87149143 0.89125897 0.90856796 0.92408163 0.9371056  0.94914444\n",
      " 0.96042856 0.97126197 0.98046403 0.98687598 0.99240246 0.99685984\n",
      " 0.99995898 1.        ]\n"
     ]
    }
   ],
   "source": [
    "X_scaled = StandardScaler().fit_transform(X)\n",
    "\n",
    "pca_model = PCA()\n",
    "X_pca = pca_model.fit_transform(X_scaled)\n",
    "\n",
    "explained_variance = np.cumsum(pca_model.explained_variance_ratio_)\n",
    "cumulative_var = np.cumsum(explained_variance)\n",
    "\n",
    "print(explained_variance)\n"
   ]
  },
  {
   "cell_type": "code",
   "execution_count": 30,
   "id": "9ef82d62",
   "metadata": {},
   "outputs": [
    {
     "name": "stdout",
     "output_type": "stream",
     "text": [
      "25\n"
     ]
    }
   ],
   "source": [
    "\n",
    "target_variance = 0.95\n",
    "cumulative_variance = np.cumsum(pca_model.explained_variance_ratio_)\n",
    "optimal_components = np.argmax(cumulative_variance >= target_variance) + 1\n",
    "\n",
    "print(optimal_components)"
   ]
  },
  {
   "cell_type": "code",
   "execution_count": null,
   "id": "51a2d01c",
   "metadata": {},
   "outputs": [
    {
     "name": "stdout",
     "output_type": "stream",
     "text": [
      "PCR RMSE: 239257.14633359463\n"
     ]
    }
   ],
   "source": [
    "\n",
    "\n",
    "n_components = 25\n",
    "X_train, X_test, y_train, y_test = train_test_split(X_pca[:, :n_components], y, test_size=0.2, random_state=42)\n",
    "\n",
    "model_pcr = LinearRegression().fit(X_train, y_train)\n",
    "y_pred = model_pcr.predict(X_test)\n",
    "print(\"PCR RMSE:\", mean_squared_error(y_test, y_pred) ** 0.5)"
   ]
  },
  {
   "cell_type": "code",
   "execution_count": 38,
   "id": "35e11f25",
   "metadata": {},
   "outputs": [
    {
     "name": "stdout",
     "output_type": "stream",
     "text": [
      "PLSR RMSE: 239262.85281651482\n"
     ]
    }
   ],
   "source": [
    "pls_model = PLSRegression()\n",
    "pls_model.fit(X_train, y_train)\n",
    "y_pred = pls_model.predict(X_test)\n",
    "\n",
    "\n",
    "print(\"PLSR RMSE:\", mean_squared_error(y_test, y_pred) ** 0.5)"
   ]
  }
 ],
 "metadata": {
  "kernelspec": {
   "display_name": "Python 3",
   "language": "python",
   "name": "python3"
  },
  "language_info": {
   "codemirror_mode": {
    "name": "ipython",
    "version": 3
   },
   "file_extension": ".py",
   "mimetype": "text/x-python",
   "name": "python",
   "nbconvert_exporter": "python",
   "pygments_lexer": "ipython3",
   "version": "3.12.1"
  }
 },
 "nbformat": 4,
 "nbformat_minor": 5
}
